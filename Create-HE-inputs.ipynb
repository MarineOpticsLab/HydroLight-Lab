{
 "cells": [
  {
   "cell_type": "markdown",
   "metadata": {},
   "source": [
    "# Initializing\n",
    "\n",
    "## Importing libraries"
   ]
  },
  {
   "cell_type": "code",
   "execution_count": 2,
   "metadata": {},
   "outputs": [],
   "source": [
    "import numpy as np\n",
    "import pandas as pd"
   ]
  },
  {
   "cell_type": "markdown",
   "metadata": {},
   "source": [
    "## Importing SIOPs\n",
    "\n",
    "The SIOPs are stored in csv files - we need to read those in using pandas:"
   ]
  },
  {
   "cell_type": "code",
   "execution_count": 3,
   "metadata": {},
   "outputs": [],
   "source": [
    "siops_abc = pd.read_csv('data/siops_abc.csv') #provide path to the file\n",
    "siops_bb = pd.read_csv('data/siops_bb.csv') #provide path to the file"
   ]
  },
  {
   "cell_type": "code",
   "execution_count": 4,
   "metadata": {},
   "outputs": [
    {
     "data": {
      "text/html": [
       "<div>\n",
       "<style scoped>\n",
       "    .dataframe tbody tr th:only-of-type {\n",
       "        vertical-align: middle;\n",
       "    }\n",
       "\n",
       "    .dataframe tbody tr th {\n",
       "        vertical-align: top;\n",
       "    }\n",
       "\n",
       "    .dataframe thead th {\n",
       "        text-align: right;\n",
       "    }\n",
       "</style>\n",
       "<table border=\"1\" class=\"dataframe\">\n",
       "  <thead>\n",
       "    <tr style=\"text-align: right;\">\n",
       "      <th></th>\n",
       "      <th>Wavelength</th>\n",
       "      <th>a*chl</th>\n",
       "      <th>a*mss</th>\n",
       "      <th>a*cdom</th>\n",
       "      <th>b*chl</th>\n",
       "      <th>b*mss</th>\n",
       "    </tr>\n",
       "  </thead>\n",
       "  <tbody>\n",
       "    <tr>\n",
       "      <th>0</th>\n",
       "      <td>400</td>\n",
       "      <td>0.052899</td>\n",
       "      <td>0.080000</td>\n",
       "      <td>1.607792</td>\n",
       "      <td>0.12</td>\n",
       "      <td>0.4</td>\n",
       "    </tr>\n",
       "    <tr>\n",
       "      <th>1</th>\n",
       "      <td>402</td>\n",
       "      <td>0.053036</td>\n",
       "      <td>0.078450</td>\n",
       "      <td>1.569649</td>\n",
       "      <td>0.12</td>\n",
       "      <td>0.4</td>\n",
       "    </tr>\n",
       "    <tr>\n",
       "      <th>2</th>\n",
       "      <td>404</td>\n",
       "      <td>0.054574</td>\n",
       "      <td>0.076930</td>\n",
       "      <td>1.532410</td>\n",
       "      <td>0.12</td>\n",
       "      <td>0.4</td>\n",
       "    </tr>\n",
       "    <tr>\n",
       "      <th>3</th>\n",
       "      <td>406</td>\n",
       "      <td>0.055862</td>\n",
       "      <td>0.075495</td>\n",
       "      <td>1.497387</td>\n",
       "      <td>0.12</td>\n",
       "      <td>0.4</td>\n",
       "    </tr>\n",
       "    <tr>\n",
       "      <th>4</th>\n",
       "      <td>408</td>\n",
       "      <td>0.057642</td>\n",
       "      <td>0.074032</td>\n",
       "      <td>1.461863</td>\n",
       "      <td>0.12</td>\n",
       "      <td>0.4</td>\n",
       "    </tr>\n",
       "    <tr>\n",
       "      <th>...</th>\n",
       "      <td>...</td>\n",
       "      <td>...</td>\n",
       "      <td>...</td>\n",
       "      <td>...</td>\n",
       "      <td>...</td>\n",
       "      <td>...</td>\n",
       "    </tr>\n",
       "    <tr>\n",
       "      <th>171</th>\n",
       "      <td>742</td>\n",
       "      <td>-0.000148</td>\n",
       "      <td>0.002939</td>\n",
       "      <td>0.027872</td>\n",
       "      <td>0.12</td>\n",
       "      <td>0.4</td>\n",
       "    </tr>\n",
       "    <tr>\n",
       "      <th>172</th>\n",
       "      <td>744</td>\n",
       "      <td>-0.000032</td>\n",
       "      <td>0.002882</td>\n",
       "      <td>0.027211</td>\n",
       "      <td>0.12</td>\n",
       "      <td>0.4</td>\n",
       "    </tr>\n",
       "    <tr>\n",
       "      <th>173</th>\n",
       "      <td>746</td>\n",
       "      <td>-0.000183</td>\n",
       "      <td>0.002826</td>\n",
       "      <td>0.026565</td>\n",
       "      <td>0.12</td>\n",
       "      <td>0.4</td>\n",
       "    </tr>\n",
       "    <tr>\n",
       "      <th>174</th>\n",
       "      <td>748</td>\n",
       "      <td>0.000028</td>\n",
       "      <td>0.002773</td>\n",
       "      <td>0.025958</td>\n",
       "      <td>0.12</td>\n",
       "      <td>0.4</td>\n",
       "    </tr>\n",
       "    <tr>\n",
       "      <th>175</th>\n",
       "      <td>750</td>\n",
       "      <td>0.000000</td>\n",
       "      <td>0.002720</td>\n",
       "      <td>0.025342</td>\n",
       "      <td>0.12</td>\n",
       "      <td>0.4</td>\n",
       "    </tr>\n",
       "  </tbody>\n",
       "</table>\n",
       "<p>176 rows × 6 columns</p>\n",
       "</div>"
      ],
      "text/plain": [
       "     Wavelength     a*chl     a*mss    a*cdom  b*chl  b*mss\n",
       "0           400  0.052899  0.080000  1.607792   0.12    0.4\n",
       "1           402  0.053036  0.078450  1.569649   0.12    0.4\n",
       "2           404  0.054574  0.076930  1.532410   0.12    0.4\n",
       "3           406  0.055862  0.075495  1.497387   0.12    0.4\n",
       "4           408  0.057642  0.074032  1.461863   0.12    0.4\n",
       "..          ...       ...       ...       ...    ...    ...\n",
       "171         742 -0.000148  0.002939  0.027872   0.12    0.4\n",
       "172         744 -0.000032  0.002882  0.027211   0.12    0.4\n",
       "173         746 -0.000183  0.002826  0.026565   0.12    0.4\n",
       "174         748  0.000028  0.002773  0.025958   0.12    0.4\n",
       "175         750  0.000000  0.002720  0.025342   0.12    0.4\n",
       "\n",
       "[176 rows x 6 columns]"
      ]
     },
     "execution_count": 4,
     "metadata": {},
     "output_type": "execute_result"
    }
   ],
   "source": [
    "siops_abc"
   ]
  },
  {
   "cell_type": "code",
   "execution_count": 5,
   "metadata": {},
   "outputs": [
    {
     "data": {
      "text/html": [
       "<div>\n",
       "<style scoped>\n",
       "    .dataframe tbody tr th:only-of-type {\n",
       "        vertical-align: middle;\n",
       "    }\n",
       "\n",
       "    .dataframe tbody tr th {\n",
       "        vertical-align: top;\n",
       "    }\n",
       "\n",
       "    .dataframe thead th {\n",
       "        text-align: right;\n",
       "    }\n",
       "</style>\n",
       "<table border=\"1\" class=\"dataframe\">\n",
       "  <thead>\n",
       "    <tr style=\"text-align: right;\">\n",
       "      <th></th>\n",
       "      <th>Wave</th>\n",
       "      <th>bb*chl</th>\n",
       "      <th>bb*mss</th>\n",
       "    </tr>\n",
       "  </thead>\n",
       "  <tbody>\n",
       "    <tr>\n",
       "      <th>0</th>\n",
       "      <td>400</td>\n",
       "      <td>0.001715</td>\n",
       "      <td>0.016487</td>\n",
       "    </tr>\n",
       "    <tr>\n",
       "      <th>1</th>\n",
       "      <td>405</td>\n",
       "      <td>0.001700</td>\n",
       "      <td>0.016420</td>\n",
       "    </tr>\n",
       "    <tr>\n",
       "      <th>2</th>\n",
       "      <td>410</td>\n",
       "      <td>0.001685</td>\n",
       "      <td>0.016355</td>\n",
       "    </tr>\n",
       "    <tr>\n",
       "      <th>3</th>\n",
       "      <td>415</td>\n",
       "      <td>0.001671</td>\n",
       "      <td>0.016290</td>\n",
       "    </tr>\n",
       "    <tr>\n",
       "      <th>4</th>\n",
       "      <td>420</td>\n",
       "      <td>0.001656</td>\n",
       "      <td>0.016227</td>\n",
       "    </tr>\n",
       "    <tr>\n",
       "      <th>...</th>\n",
       "      <td>...</td>\n",
       "      <td>...</td>\n",
       "      <td>...</td>\n",
       "    </tr>\n",
       "    <tr>\n",
       "      <th>66</th>\n",
       "      <td>730</td>\n",
       "      <td>0.001117</td>\n",
       "      <td>0.013555</td>\n",
       "    </tr>\n",
       "    <tr>\n",
       "      <th>67</th>\n",
       "      <td>735</td>\n",
       "      <td>0.001111</td>\n",
       "      <td>0.013525</td>\n",
       "    </tr>\n",
       "    <tr>\n",
       "      <th>68</th>\n",
       "      <td>740</td>\n",
       "      <td>0.001106</td>\n",
       "      <td>0.013495</td>\n",
       "    </tr>\n",
       "    <tr>\n",
       "      <th>69</th>\n",
       "      <td>745</td>\n",
       "      <td>0.001101</td>\n",
       "      <td>0.013466</td>\n",
       "    </tr>\n",
       "    <tr>\n",
       "      <th>70</th>\n",
       "      <td>750</td>\n",
       "      <td>0.001095</td>\n",
       "      <td>0.013436</td>\n",
       "    </tr>\n",
       "  </tbody>\n",
       "</table>\n",
       "<p>71 rows × 3 columns</p>\n",
       "</div>"
      ],
      "text/plain": [
       "    Wave     bb*chl    bb*mss\n",
       "0     400  0.001715  0.016487\n",
       "1     405  0.001700  0.016420\n",
       "2     410  0.001685  0.016355\n",
       "3     415  0.001671  0.016290\n",
       "4     420  0.001656  0.016227\n",
       "..    ...       ...       ...\n",
       "66    730  0.001117  0.013555\n",
       "67    735  0.001111  0.013525\n",
       "68    740  0.001106  0.013495\n",
       "69    745  0.001101  0.013466\n",
       "70    750  0.001095  0.013436\n",
       "\n",
       "[71 rows x 3 columns]"
      ]
     },
     "execution_count": 5,
     "metadata": {},
     "output_type": "execute_result"
    }
   ],
   "source": [
    "siops_bb"
   ]
  },
  {
   "cell_type": "markdown",
   "metadata": {},
   "source": [
    "# Bio-optical model: generate IOPs\n",
    "\n",
    "We're going to generate IOPs for a range of concentrations for each optically significant material (OSM). In this case, our OSMs are phytoplankton chlorophyll-a (chl), mineral suspended sediments (MSS) and coloured dissolved organic matter (CDOM).\n",
    "\n",
    "Here we're doing equally spaced concentrations for a given range of each material, giving:\n",
    "\n",
    "- Chl = 1 and 10 mg/m^3\n",
    "- MSS = 1, 5.5 and 10 g/m^3\n",
    "- CDOM = 0.01, 0.173, 0.337, and 0.5 m^-1"
   ]
  },
  {
   "cell_type": "code",
   "execution_count": 6,
   "metadata": {},
   "outputs": [],
   "source": [
    "nchl = 2\n",
    "nmss = 3\n",
    "ncdom = 4 \n",
    "\n",
    "chl = np.linspace(1.,10.,nchl)\n",
    "mss = np.linspace(1.,10.,nmss)\n",
    "cdom = np.linspace(0.01,0.5,ncdom)"
   ]
  },
  {
   "cell_type": "markdown",
   "metadata": {},
   "source": [
    "What does one of these arrays look like? It's a 1-dimensional array:"
   ]
  },
  {
   "cell_type": "code",
   "execution_count": 7,
   "metadata": {},
   "outputs": [
    {
     "data": {
      "text/plain": [
       "array([ 1. ,  5.5, 10. ])"
      ]
     },
     "execution_count": 7,
     "metadata": {},
     "output_type": "execute_result"
    }
   ],
   "source": [
    "mss"
   ]
  },
  {
   "cell_type": "markdown",
   "metadata": {},
   "source": [
    "Another way of specifying constituent concentrations in an array:"
   ]
  },
  {
   "cell_type": "code",
   "execution_count": 8,
   "metadata": {},
   "outputs": [],
   "source": [
    "PIC = np.array([0.1, 0.2])"
   ]
  },
  {
   "cell_type": "code",
   "execution_count": 9,
   "metadata": {},
   "outputs": [
    {
     "data": {
      "text/plain": [
       "array([0.1, 0.2])"
      ]
     },
     "execution_count": 9,
     "metadata": {},
     "output_type": "execute_result"
    }
   ],
   "source": [
    "PIC"
   ]
  },
  {
   "cell_type": "markdown",
   "metadata": {},
   "source": [
    "## OSM concentrations and SIOPs to IOPs?\n",
    "\n",
    "The total absorption, $a$, of seawater can be written as:\n",
    "\n",
    "$$a = a_w + a_{chl} + a_{mss} + a_{cdom}$$\n",
    "$$a = a_w + [CHL]a*_{chl} + [MSS]a*_{mss} + [CDOM]a*_{cdom}$$\n",
    "\n",
    "where:\n",
    "- $a_{chl}$ = chlorophyll-a absorption\n",
    "- $a_{mss}$ = MSS absorption\n",
    "- $a_{cdom}$ = CDOM absorption\n",
    "- $[CHL]$ = chlorophyll-a concentration\n",
    "- $[MSS]$ = MSS concentration\n",
    "- $[CDOM]$ = CDOM concentration\n",
    "- $a*_{chl}$ = chlorophyll-a specific absorption\n",
    "- $a*_{mss}$ = MSS specific absorption\n",
    "- $a*_{cdom}$ = CDOM specific absorption\n",
    "- $a_{w}$ = water absorption\n",
    "\n",
    "[See the IOCCG Report 3, section 2.6](https://ioccg.org/wp-content/uploads/2015/10/ioccg-report-03.pdf)\n",
    "\n",
    "A similar equation can be written for attenuation ($c$) and backscattering ($b_b$), except CDOM does not scatter and so is not included when calculating $b_b$."
   ]
  },
  {
   "cell_type": "markdown",
   "metadata": {},
   "source": [
    "## MSS and CDOM absorption coefficients following the above"
   ]
  },
  {
   "cell_type": "markdown",
   "metadata": {},
   "source": [
    "The OSM concentrations are saved as 1-D arrays:"
   ]
  },
  {
   "cell_type": "code",
   "execution_count": 10,
   "metadata": {},
   "outputs": [
    {
     "data": {
      "text/plain": [
       "(3,)"
      ]
     },
     "execution_count": 10,
     "metadata": {},
     "output_type": "execute_result"
    }
   ],
   "source": [
    "mss.shape"
   ]
  },
  {
   "cell_type": "markdown",
   "metadata": {},
   "source": [
    "But we need them to be 2-D arrays to multiply with the MSS SIOP ($a*_{mss}$) - and similarly for CDOM"
   ]
  },
  {
   "cell_type": "code",
   "execution_count": 11,
   "metadata": {},
   "outputs": [],
   "source": [
    "mss2d = np.expand_dims(mss, axis = 0)\n",
    "cdom2d = np.expand_dims(cdom, axis = 0)"
   ]
  },
  {
   "cell_type": "markdown",
   "metadata": {},
   "source": [
    "And then we can multiply by the SIOPs to calculate the absorption for each material:"
   ]
  },
  {
   "cell_type": "code",
   "execution_count": 12,
   "metadata": {},
   "outputs": [],
   "source": [
    "amss = np.expand_dims(siops_abc['a*mss'],axis=1) * mss2d\n",
    "acdom = np.expand_dims(siops_abc['a*cdom'],axis=1) * cdom2d"
   ]
  },
  {
   "cell_type": "markdown",
   "metadata": {},
   "source": [
    "And the shapes of these arrays?"
   ]
  },
  {
   "cell_type": "code",
   "execution_count": 13,
   "metadata": {},
   "outputs": [
    {
     "data": {
      "text/plain": [
       "(176, 3)"
      ]
     },
     "execution_count": 13,
     "metadata": {},
     "output_type": "execute_result"
    }
   ],
   "source": [
    "amss.shape"
   ]
  },
  {
   "cell_type": "code",
   "execution_count": 14,
   "metadata": {},
   "outputs": [
    {
     "data": {
      "text/plain": [
       "(176, 4)"
      ]
     },
     "execution_count": 14,
     "metadata": {},
     "output_type": "execute_result"
    }
   ],
   "source": [
    "acdom.shape"
   ]
  },
  {
   "cell_type": "markdown",
   "metadata": {},
   "source": [
    "So we have one column for each concentration, and each row is a different wavelength. "
   ]
  },
  {
   "cell_type": "markdown",
   "metadata": {},
   "source": [
    "## Phytoplankton absorption coefficients calculated using [Bricaud et al (1998)](https://agupubs.onlinelibrary.wiley.com/doi/pdfdirect/10.1029/98JC02712).\n",
    "\n",
    "The Bricaud et al model for calculating phytoplankton absorption is a little different from the above. First it calculates the chl absorption at 440 nm as follows:\n",
    "\n",
    "$$a_{chl}(440) = 0.05[CHL]^{0.626}$$\n",
    "\n",
    "Then it multiplies this by the chlorophyll specific absorption *normalized to 440 nm* - this means we have to divide the chlorophyll specific absorption at all wavelengths by the chlorophyll specific absorption at 440 nm."
   ]
  },
  {
   "cell_type": "markdown",
   "metadata": {},
   "source": [
    "Calculating the normalized chlorophyll specific absorption coefficient:"
   ]
  },
  {
   "cell_type": "code",
   "execution_count": 15,
   "metadata": {},
   "outputs": [],
   "source": [
    "achlplus = siops_abc['a*chl'] / siops_abc['a*chl'].loc[siops_abc['Wavelength'] == 440].iloc[0]"
   ]
  },
  {
   "cell_type": "markdown",
   "metadata": {},
   "source": [
    "And $a_{chl}$ at 440 nm:"
   ]
  },
  {
   "cell_type": "code",
   "execution_count": 16,
   "metadata": {},
   "outputs": [],
   "source": [
    "achl_440 = 0.05 * (chl**0.626)"
   ]
  },
  {
   "cell_type": "markdown",
   "metadata": {},
   "source": [
    "Converting to numpy arrays and expanding to two dimensions (as for CDOM and MSS)"
   ]
  },
  {
   "cell_type": "code",
   "execution_count": 17,
   "metadata": {},
   "outputs": [],
   "source": [
    "achl_440 = np.expand_dims(achl_440, axis=0)\n",
    "achlplus = np.expand_dims(achlplus, axis=1)"
   ]
  },
  {
   "cell_type": "markdown",
   "metadata": {},
   "source": [
    "Broadcasting numpy arrays:"
   ]
  },
  {
   "cell_type": "code",
   "execution_count": 18,
   "metadata": {},
   "outputs": [],
   "source": [
    "achl = achl_440*achlplus"
   ]
  },
  {
   "cell_type": "markdown",
   "metadata": {},
   "source": [
    "What is the final shape of this array?"
   ]
  },
  {
   "cell_type": "code",
   "execution_count": 19,
   "metadata": {},
   "outputs": [
    {
     "data": {
      "text/plain": [
       "(176, 2)"
      ]
     },
     "execution_count": 19,
     "metadata": {},
     "output_type": "execute_result"
    }
   ],
   "source": [
    "achl.shape"
   ]
  },
  {
   "cell_type": "markdown",
   "metadata": {},
   "source": [
    "So we have one column for each chlorophyll concentration, and each row is a different wavelength."
   ]
  },
  {
   "cell_type": "markdown",
   "metadata": {},
   "source": [
    "## Total nonwater absorption coefficents"
   ]
  },
  {
   "cell_type": "markdown",
   "metadata": {},
   "source": [
    "We need to make copies of our achl, acdom and amss arrays, so we can add together all the combinations of constituents\n",
    "\n",
    "| chl | mss | cdom|\n",
    "|---|---|---|\n",
    "| 1 | 1 | 0.01 |\n",
    "| 1 | 1 | 0.17 |\n",
    "| 1 | 1 | 0.34 |\n",
    "| 1 | 1 | 0.5 |\n",
    "| 1 | 5.5 | 0.01 |\n",
    "| 1 | 5.5 | 0.17 |\n",
    "| 1 | 5.5 | 0.34 |\n",
    "| 1 | 5.5 | 0.5 |\n",
    "| 1 | 10 | 0.01 |\n",
    "| 1 | 10 | 0.17 |\n",
    "| 1 | 10 | 0.34 |\n",
    "| 1 | 10 | 0.5 |\n",
    "| 10 | 1 | 0.01 |\n",
    "| 10 | 1 | 0.17 |\n",
    "| 10 | 1 | 0.34 |\n",
    "| 10 | 1 | 0.5 |\n",
    "| 10 | 5.5 | 0.01 |\n",
    "| 10 | 5.5 | 0.17 |\n",
    "| 10 | 5.5 | 0.34 |\n",
    "| 10 | 5.5 | 0.5 |\n",
    "| 10 | 10 | 0.01 |\n",
    "| 10 | 10 | 0.17 |\n",
    "| 10 | 10 | 0.34 |\n",
    "| 10 | 10 | 0.5 |"
   ]
  },
  {
   "cell_type": "markdown",
   "metadata": {},
   "source": [
    "First we want to repeat the `achl` array i.e. we want to repeat each column 12 times. Why 12? See the table above - we want to add the first `achl` column to all possible combinations of the `amss` and `acdom` columns, which totals $3 \\times 4 = 12\\ $:"
   ]
  },
  {
   "cell_type": "code",
   "execution_count": 20,
   "metadata": {},
   "outputs": [],
   "source": [
    "achlrep = np.repeat(achl,nmss*ncdom,axis=1)"
   ]
  },
  {
   "cell_type": "markdown",
   "metadata": {},
   "source": [
    "Let's check the shape is what we expect (176, 24):"
   ]
  },
  {
   "cell_type": "code",
   "execution_count": 21,
   "metadata": {},
   "outputs": [
    {
     "data": {
      "text/plain": [
       "(176, 24)"
      ]
     },
     "execution_count": 21,
     "metadata": {},
     "output_type": "execute_result"
    }
   ],
   "source": [
    "achlrep.shape"
   ]
  },
  {
   "cell_type": "markdown",
   "metadata": {},
   "source": [
    "Great! But are the columns in the right order? Let's check the first row, the first 12 columns should have the same value, and then the next 12 columns should have a different value"
   ]
  },
  {
   "cell_type": "code",
   "execution_count": 22,
   "metadata": {},
   "outputs": [
    {
     "data": {
      "text/plain": [
       "array([0.0345238 , 0.0345238 , 0.0345238 , 0.0345238 , 0.0345238 ,\n",
       "       0.0345238 , 0.0345238 , 0.0345238 , 0.0345238 , 0.0345238 ,\n",
       "       0.0345238 , 0.0345238 , 0.14592125, 0.14592125, 0.14592125,\n",
       "       0.14592125, 0.14592125, 0.14592125, 0.14592125, 0.14592125,\n",
       "       0.14592125, 0.14592125, 0.14592125, 0.14592125])"
      ]
     },
     "execution_count": 22,
     "metadata": {},
     "output_type": "execute_result"
    }
   ],
   "source": [
    "achlrep[0,:]"
   ]
  },
  {
   "cell_type": "markdown",
   "metadata": {},
   "source": [
    "Great - this worked. Onto CDOM next...\n",
    "\n",
    "For CDOM we want to tile the `acdom` array i.e. we want to make 6 copies of it, resulting in 1 array, where each set of 4 columns corresponds to a different CDOM concentration:"
   ]
  },
  {
   "cell_type": "code",
   "execution_count": 23,
   "metadata": {},
   "outputs": [],
   "source": [
    "acdomrep = np.tile(acdom,nchl*nmss)"
   ]
  },
  {
   "cell_type": "markdown",
   "metadata": {},
   "source": [
    "Check the shape is (176, 24):"
   ]
  },
  {
   "cell_type": "code",
   "execution_count": 24,
   "metadata": {},
   "outputs": [
    {
     "data": {
      "text/plain": [
       "(176, 24)"
      ]
     },
     "execution_count": 24,
     "metadata": {},
     "output_type": "execute_result"
    }
   ],
   "source": [
    "acdomrep.shape"
   ]
  },
  {
   "cell_type": "markdown",
   "metadata": {},
   "source": [
    "And what does the first row look like?"
   ]
  },
  {
   "cell_type": "code",
   "execution_count": 25,
   "metadata": {},
   "outputs": [
    {
     "data": {
      "text/plain": [
       "array([0.01607792, 0.27868391, 0.5412899 , 0.8038959 , 0.01607792,\n",
       "       0.27868391, 0.5412899 , 0.8038959 , 0.01607792, 0.27868391,\n",
       "       0.5412899 , 0.8038959 , 0.01607792, 0.27868391, 0.5412899 ,\n",
       "       0.8038959 , 0.01607792, 0.27868391, 0.5412899 , 0.8038959 ,\n",
       "       0.01607792, 0.27868391, 0.5412899 , 0.8038959 ])"
      ]
     },
     "execution_count": 25,
     "metadata": {},
     "output_type": "execute_result"
    }
   ],
   "source": [
    "acdomrep[0,:]"
   ]
  },
  {
   "cell_type": "markdown",
   "metadata": {},
   "source": [
    "And finally, MSS. Here we need to first repeat, and then tile:"
   ]
  },
  {
   "cell_type": "code",
   "execution_count": 26,
   "metadata": {},
   "outputs": [],
   "source": [
    "amssrep = np.tile(np.repeat(amss,ncdom,axis=1),nchl)"
   ]
  },
  {
   "cell_type": "markdown",
   "metadata": {},
   "source": [
    "And is the shape (176, 24)?"
   ]
  },
  {
   "cell_type": "code",
   "execution_count": 27,
   "metadata": {},
   "outputs": [
    {
     "data": {
      "text/plain": [
       "(176, 24)"
      ]
     },
     "execution_count": 27,
     "metadata": {},
     "output_type": "execute_result"
    }
   ],
   "source": [
    "amssrep.shape"
   ]
  },
  {
   "cell_type": "markdown",
   "metadata": {},
   "source": [
    "Yes! Does the first row look like we expect? "
   ]
  },
  {
   "cell_type": "code",
   "execution_count": 28,
   "metadata": {},
   "outputs": [
    {
     "data": {
      "text/plain": [
       "array([0.08, 0.08, 0.08, 0.08, 0.44, 0.44, 0.44, 0.44, 0.8 , 0.8 , 0.8 ,\n",
       "       0.8 , 0.08, 0.08, 0.08, 0.08, 0.44, 0.44, 0.44, 0.44, 0.8 , 0.8 ,\n",
       "       0.8 , 0.8 ])"
      ]
     },
     "execution_count": 28,
     "metadata": {},
     "output_type": "execute_result"
    }
   ],
   "source": [
    "amssrep[0,:]"
   ]
  },
  {
   "cell_type": "markdown",
   "metadata": {},
   "source": [
    "Yes!"
   ]
  },
  {
   "cell_type": "markdown",
   "metadata": {},
   "source": [
    "And the total non-water absorption is:"
   ]
  },
  {
   "cell_type": "code",
   "execution_count": 37,
   "metadata": {},
   "outputs": [],
   "source": [
    "anw = achlrep + amssrep + acdomrep"
   ]
  },
  {
   "cell_type": "markdown",
   "metadata": {},
   "source": [
    "## Backscattering and scattering coefficients for CHL and MSS\n",
    "\n",
    "These are calculated using the standard model (like we did for MSS and CDOM absorption), but CDOM doesn't scatter, so isn't included here"
   ]
  },
  {
   "cell_type": "code",
   "execution_count": 30,
   "metadata": {},
   "outputs": [],
   "source": [
    "chl2d = np.expand_dims(chl, axis = 0)\n",
    "\n",
    "bmss = np.expand_dims(siops_abc['b*mss'],axis=1) * mss2d\n",
    "bchl = np.expand_dims(siops_abc['b*chl'],axis=1) * chl2d\n",
    "\n",
    "bbmss = np.expand_dims(siops_bb['bb*mss'],axis=1) * mss2d\n",
    "bbchl = np.expand_dims(siops_bb['bb*chl'],axis=1) * chl2d"
   ]
  },
  {
   "cell_type": "markdown",
   "metadata": {},
   "source": [
    "And then repeating the arrays to make them the right size (176,24):"
   ]
  },
  {
   "cell_type": "code",
   "execution_count": 35,
   "metadata": {},
   "outputs": [],
   "source": [
    "bchlrep = np.repeat(bchl,nmss*ncdom,axis=1)\n",
    "bmssrep = np.tile(np.repeat(bmss,ncdom,axis=1),nchl)\n",
    "\n",
    "bbchlrep = np.repeat(bbchl,nmss*ncdom,axis=1)\n",
    "bbmssrep = np.tile(np.repeat(bbmss,ncdom,axis=1),nchl)"
   ]
  },
  {
   "cell_type": "code",
   "execution_count": 36,
   "metadata": {},
   "outputs": [
    {
     "data": {
      "text/plain": [
       "(176, 24)"
      ]
     },
     "execution_count": 36,
     "metadata": {},
     "output_type": "execute_result"
    }
   ],
   "source": [
    "bmssrep.shape"
   ]
  },
  {
   "cell_type": "markdown",
   "metadata": {},
   "source": [
    "## Nonwater backscattering and attenuation coefficients"
   ]
  },
  {
   "cell_type": "code",
   "execution_count": 40,
   "metadata": {},
   "outputs": [],
   "source": [
    "bbnw = bbchlrep + bbmssrep\n",
    "bnw = bchlrep + bmssrep\n",
    "\n",
    "cnw = anw + bnw"
   ]
  },
  {
   "cell_type": "markdown",
   "metadata": {},
   "source": [
    "# Create HydroLight ac, bb and input files\n",
    "\n",
    "## Creating the wavelength arrays"
   ]
  },
  {
   "cell_type": "code",
   "execution_count": 71,
   "metadata": {},
   "outputs": [],
   "source": [
    "wavelac = np.linspace(400,750,176)\n",
    "wac = np.expand_dims(np.insert(wavelac,0,176), axis = 0)\n",
    "\n",
    "wavelbb = np.linspace(400,750,71)\n",
    "wbb = np.expand_dims(np.insert(wavelbb,0,71), axis = 0)"
   ]
  },
  {
   "cell_type": "markdown",
   "metadata": {},
   "source": [
    "### Repeating the CHL, MSS and CDOM concentration arrays\n",
    "\n",
    "This will be useful for writing data into the ac, bb and input HydroLight files"
   ]
  },
  {
   "cell_type": "code",
   "execution_count": 46,
   "metadata": {},
   "outputs": [],
   "source": [
    "chlrep = np.repeat(chl,nmss*ncdom)\n",
    "mssrep = np.tile(np.repeat(mss,ncdom,),nchl)\n",
    "cdomrep = np.tile(cdom,nchl*nmss)"
   ]
  },
  {
   "cell_type": "markdown",
   "metadata": {},
   "source": [
    "## Creating the ac files\n",
    "\n",
    "The variable `path` is the full directory of where you want to save the ac files."
   ]
  },
  {
   "cell_type": "code",
   "execution_count": 70,
   "metadata": {},
   "outputs": [],
   "source": [
    "for run in range(0,nchl*nmss*ncdom,1):\n",
    "    path='data/ac-files/ac'+str(run)+'.txt'\n",
    "    with open(path, \"w\") as f:  \n",
    "        aca=np.concatenate([[1],anw[:,run],cnw[:,run]])\n",
    "        acb=np.concatenate([[-1],anw[:,run],cnw[:,run]])\n",
    "        ac = np.array([aca, acb])\n",
    "        osms = [chlrep[run], mssrep[run], cdomrep[run]]\n",
    "        \n",
    "        print('ac file',file=f)\n",
    "        print('-----------',file=f)\n",
    "        print('**need ten lines header**',file=f)\n",
    "        print('10th line contains run information',file=f)\n",
    "        print('11th line contains number of wavelengths & those wavelengths',file=f)\n",
    "        print('12th line onwards contains ac data',file=f)\n",
    "        print('ac data takes form of:',file=f)\n",
    "        print('depth then a for each wavelength, then c for each wavelength',file=f)\n",
    "        print('(NB - HE6 recognises end of data by negative depth)',file=f)\n",
    "        print(osms,file=f)\n",
    "        np.savetxt(f,wac,fmt='%i',delimiter=' ')\n",
    "        np.savetxt(f,ac,fmt='%f',delimiter=' ', newline='\\n')"
   ]
  },
  {
   "cell_type": "markdown",
   "metadata": {},
   "source": [
    "### Creating the bb files\n",
    "\n",
    "The variable `path` is the full directory of where you want to save the bb files."
   ]
  },
  {
   "cell_type": "code",
   "execution_count": 78,
   "metadata": {},
   "outputs": [],
   "source": [
    "for run in range(0,nchl*nmss*ncdom,1):\n",
    "    path='data/bb-files/bb'+str(run)+'.txt'\n",
    "    with open(path, \"w\") as f:  \n",
    "        bba=np.concatenate([[1],bbnw[:,run]])\n",
    "        bbb=np.concatenate([[-1],bbnw[:,run]])\n",
    "        bb = np.array([bba, bbb])\n",
    "        osms = [chlrep[run], mssrep[run], cdomrep[run]]\n",
    "        \n",
    "        print('bb file',file=f)\n",
    "        print('-----------',file=f)\n",
    "        print('**need ten lines header**',file=f)\n",
    "        print('10th line contains run information',file=f)\n",
    "        print('11th line contains number of wavelengths & those wavelengths',file=f)\n",
    "        print('12th line onwards contains ac data',file=f)\n",
    "        print('ac data takes form of:',file=f)\n",
    "        print('depth then bb for each wavelength',file=f)\n",
    "        print('(NB - HE6 recognises end of data by negative depth)',file=f)\n",
    "        print(osms,file=f)\n",
    "        np.savetxt(f,wbb,fmt='%i',delimiter=' ')\n",
    "        np.savetxt(f,bb,fmt='%f',delimiter=' ', newline='\\n')"
   ]
  },
  {
   "cell_type": "markdown",
   "metadata": {},
   "source": [
    "### Input files\n",
    "\n",
    "The variable `ifpath` is the full directory of where you want to save the HydroLight input files.\n",
    "\n",
    "`acpcpath` is the full directory of where the ac files are saved - this is important because HydroLight will look there for the files.\n",
    "\n",
    "`bbpcpath` is the full directory of where the bb files are saved - this is important because HydroLight will look there for the files."
   ]
  },
  {
   "cell_type": "code",
   "execution_count": 75,
   "metadata": {},
   "outputs": [],
   "source": [
    "ifpath = 'data/HEinputfiles/'\n",
    "acpcpath = 'X:/cmitchell/projects/git-repos/lab-guides-examples-etc/HydroLight/data/ac-files/'\n",
    "bbpcpath = 'X:/cmitchell/projects/git-repos/lab-guides-examples-etc/HydroLight/data/bb-files/'"
   ]
  },
  {
   "cell_type": "code",
   "execution_count": 80,
   "metadata": {},
   "outputs": [],
   "source": [
    "for run in range(0,nchl*nmss*ncdom,1):\n",
    "    with open(ifpath+'I_'+str(run)+'.txt', 'w') as f: #directory for where to save the input files\n",
    "        print('0, 400, 700, 0.02, 488, 0.00026, 1, 5.3',file=f)\n",
    "        print('description placeholder',file=f)\n",
    "        print(str(run),file=f) #setting \"title\"\n",
    "        print('0, 0, 2, 1, 0',file=f)\n",
    "        print('3, 1, 0, 0, 0, 0',file=f)\n",
    "        print('2, 2',file=f)\n",
    "        print('0, 0,',file=f)\n",
    "        print('0, 1, 440, 1, 0.014',file=f)\n",
    "        print('2, -666, 440, 1, 0.014',file=f)\n",
    "        print('../data/H2OabDefaults_SEAwater.txt',file=f) #NB - need to put a double backslash where actually want a backslash (escaping characters)\n",
    "        print('astarDummy.txt',file=f)\n",
    "        print('0, -999, -999, -999, -999, -999',file=f)\n",
    "        print('-666, -999, -999, -999, -999, -999',file=f)\n",
    "        print('bstarDummy.txt',file=f)\n",
    "        print('dummybstar.txt',file=f)\n",
    "        print('0, 0, 550, 0.01, 0',file=f)\n",
    "        print('-2, 0, 550, 0.01, 0',file=f)\n",
    "        print('dpf_pure_H2O.txt',file=f)\n",
    "        print('dpf_Petzold_avg_particle.txt',file=f)\n",
    "        print('25',file=f)\n",
    "        print('405, 420, 438, 448, 459, 483, 493, 526, 536, 545,',file=f) #specially selected wavelengths\n",
    "        print('549, 553, 557, 570, 585, 600, 615, 630, 645, 662,',file=f)\n",
    "        print('672, 681, 703, 723, 743, 753,',file=f)\n",
    "        print('0,0,0,0,0',file=f)\n",
    "        print('2, 3, 30, 0, 0',file=f) #middle entry is solar angle\n",
    "        print('-1, 0, 0, 29.92, 1, 80, 2.5, 15, 5, 300',file=f)\n",
    "        print('5, 1.34, 20, 35, 3',file=f)\n",
    "        print('0, 0',file=f)\n",
    "        print('0, 3, 0, 1, 2',file=f) #depths\n",
    "       #print('0, 21, 0, 1, 2, 3, 4, 5, 6, 7, 8, 9, 10, 11,\\r\\n',file=f)\n",
    "       #print('12, 13, 14, 15, 16, 17, 18, 19, 20,\\r\\n',file=f)\n",
    "        print('../data/H2OabDefaults_SEAwater.txt',file=f)\n",
    "        print('1',file=f)\n",
    "        print(acpcpath+'ac'+str(run)+'.txt',file=f) #directory to where the ac files are saved\n",
    "        print('dummyFilteredAc9.txt',file=f)\n",
    "        print(bbpcpath+'bb'+str(run)+'.txt',file=f) #directory to where the bb files are saved\n",
    "        print('dummyCHLdata.txt',file=f)\n",
    "        print('dummyCDOMdata.txt',file=f)\n",
    "        print('dummyR.bot',file=f)\n",
    "        print('dummydata.txt',file=f)\n",
    "        print('dummyComp.txt',file=f)\n",
    "        print('DummyIrrad.txt',file=f)\n",
    "        print('..\\\\data\\\\MyBiolumData.txt',file=f)\n",
    "        print('DummyRad.txt',file=f)"
   ]
  },
  {
   "cell_type": "markdown",
   "metadata": {},
   "source": [
    "## Making the run list"
   ]
  },
  {
   "cell_type": "code",
   "execution_count": 77,
   "metadata": {},
   "outputs": [],
   "source": [
    "with open(ifpath+'runlist.txt','w') as f:\n",
    "    for run in range(0,nchl*nmss*ncdom,1):\n",
    "        print('I_'+str(run)+'.txt',file=f)"
   ]
  },
  {
   "cell_type": "markdown",
   "metadata": {},
   "source": [
    "# Running HydroLight\n",
    "\n",
    "First, we need to copy the input files and runlist to the relevant place on our computer:\n",
    "\n",
    "- the HE input files needs to be copied to `C:\\HE60\\run\\batch`\n",
    "- the runlist file needs to be copied to `C:\\HE60\\run\\`\n",
    "\n",
    "And then to run HydroLight, double click on the `run_el` application in `C:\\HE60\\frontend`. This will create output files in `C:\\HE60\\output\\Ecolight\\printout\\`"
   ]
  }
 ],
 "metadata": {
  "kernelspec": {
   "display_name": "Python 3",
   "language": "python",
   "name": "python3"
  },
  "language_info": {
   "codemirror_mode": {
    "name": "ipython",
    "version": 3
   },
   "file_extension": ".py",
   "mimetype": "text/x-python",
   "name": "python",
   "nbconvert_exporter": "python",
   "pygments_lexer": "ipython3",
   "version": "3.7.4"
  }
 },
 "nbformat": 4,
 "nbformat_minor": 4
}
