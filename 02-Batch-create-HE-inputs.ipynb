{
 "cells": [
  {
   "cell_type": "markdown",
   "metadata": {},
   "source": [
    "This notebook creates HydroLight-EcoLight (HE) input files (Iroot.txt files), as well as user-supplied IOP files (ac files and bb files), which can be run in HE to create a synthetic dataset.\n",
    "\n",
    "Note, any kind of bio-optical model can be used, but we're using a Case 2, four-component model (water, chlorophyll, CDOM and minerals). The specific IOPs (SIOPs) we use are example files provided in the HE directory.\n",
    "\n",
    "FIGURE OUT WHAT SIOPs TO USE\n",
    "\n",
    "\n",
    "\n"
   ]
  },
  {
   "cell_type": "markdown",
   "metadata": {},
   "source": [
    "# Initializing\n",
    "\n",
    "## Importing libraries"
   ]
  },
  {
   "cell_type": "code",
   "execution_count": 1,
   "metadata": {},
   "outputs": [],
   "source": [
    "import numpy as np\n",
    "import pandas as pd"
   ]
  },
  {
   "cell_type": "markdown",
   "metadata": {},
   "source": [
    "## Importing SIOPs\n",
    "\n",
    "The SIOPs are stored in csv files - we need to read those in using pandas:"
   ]
  },
  {
   "cell_type": "code",
   "execution_count": 2,
   "metadata": {},
   "outputs": [],
   "source": [
    "siops_abc = pd.read_csv('data/siops_abc.csv') #provide path to the file\n",
    "siops_bb = pd.read_csv('data/siops_bb.csv') #provide path to the file"
   ]
  },
  {
   "cell_type": "code",
   "execution_count": 3,
   "metadata": {},
   "outputs": [
    {
     "data": {
      "text/html": [
       "<div>\n",
       "<style scoped>\n",
       "    .dataframe tbody tr th:only-of-type {\n",
       "        vertical-align: middle;\n",
       "    }\n",
       "\n",
       "    .dataframe tbody tr th {\n",
       "        vertical-align: top;\n",
       "    }\n",
       "\n",
       "    .dataframe thead th {\n",
       "        text-align: right;\n",
       "    }\n",
       "</style>\n",
       "<table border=\"1\" class=\"dataframe\">\n",
       "  <thead>\n",
       "    <tr style=\"text-align: right;\">\n",
       "      <th></th>\n",
       "      <th>Wavelength</th>\n",
       "      <th>a*chl</th>\n",
       "      <th>a*mss</th>\n",
       "      <th>a*cdom</th>\n",
       "      <th>b*chl</th>\n",
       "      <th>b*mss</th>\n",
       "    </tr>\n",
       "  </thead>\n",
       "  <tbody>\n",
       "    <tr>\n",
       "      <td>0</td>\n",
       "      <td>400</td>\n",
       "      <td>0.052899</td>\n",
       "      <td>0.080000</td>\n",
       "      <td>1.607792</td>\n",
       "      <td>0.12</td>\n",
       "      <td>0.4</td>\n",
       "    </tr>\n",
       "    <tr>\n",
       "      <td>1</td>\n",
       "      <td>402</td>\n",
       "      <td>0.053036</td>\n",
       "      <td>0.078450</td>\n",
       "      <td>1.569649</td>\n",
       "      <td>0.12</td>\n",
       "      <td>0.4</td>\n",
       "    </tr>\n",
       "    <tr>\n",
       "      <td>2</td>\n",
       "      <td>404</td>\n",
       "      <td>0.054574</td>\n",
       "      <td>0.076930</td>\n",
       "      <td>1.532410</td>\n",
       "      <td>0.12</td>\n",
       "      <td>0.4</td>\n",
       "    </tr>\n",
       "    <tr>\n",
       "      <td>3</td>\n",
       "      <td>406</td>\n",
       "      <td>0.055862</td>\n",
       "      <td>0.075495</td>\n",
       "      <td>1.497387</td>\n",
       "      <td>0.12</td>\n",
       "      <td>0.4</td>\n",
       "    </tr>\n",
       "    <tr>\n",
       "      <td>4</td>\n",
       "      <td>408</td>\n",
       "      <td>0.057642</td>\n",
       "      <td>0.074032</td>\n",
       "      <td>1.461863</td>\n",
       "      <td>0.12</td>\n",
       "      <td>0.4</td>\n",
       "    </tr>\n",
       "    <tr>\n",
       "      <td>...</td>\n",
       "      <td>...</td>\n",
       "      <td>...</td>\n",
       "      <td>...</td>\n",
       "      <td>...</td>\n",
       "      <td>...</td>\n",
       "      <td>...</td>\n",
       "    </tr>\n",
       "    <tr>\n",
       "      <td>171</td>\n",
       "      <td>742</td>\n",
       "      <td>-0.000148</td>\n",
       "      <td>0.002939</td>\n",
       "      <td>0.027872</td>\n",
       "      <td>0.12</td>\n",
       "      <td>0.4</td>\n",
       "    </tr>\n",
       "    <tr>\n",
       "      <td>172</td>\n",
       "      <td>744</td>\n",
       "      <td>-0.000032</td>\n",
       "      <td>0.002882</td>\n",
       "      <td>0.027211</td>\n",
       "      <td>0.12</td>\n",
       "      <td>0.4</td>\n",
       "    </tr>\n",
       "    <tr>\n",
       "      <td>173</td>\n",
       "      <td>746</td>\n",
       "      <td>-0.000183</td>\n",
       "      <td>0.002826</td>\n",
       "      <td>0.026565</td>\n",
       "      <td>0.12</td>\n",
       "      <td>0.4</td>\n",
       "    </tr>\n",
       "    <tr>\n",
       "      <td>174</td>\n",
       "      <td>748</td>\n",
       "      <td>0.000028</td>\n",
       "      <td>0.002773</td>\n",
       "      <td>0.025958</td>\n",
       "      <td>0.12</td>\n",
       "      <td>0.4</td>\n",
       "    </tr>\n",
       "    <tr>\n",
       "      <td>175</td>\n",
       "      <td>750</td>\n",
       "      <td>0.000000</td>\n",
       "      <td>0.002720</td>\n",
       "      <td>0.025342</td>\n",
       "      <td>0.12</td>\n",
       "      <td>0.4</td>\n",
       "    </tr>\n",
       "  </tbody>\n",
       "</table>\n",
       "<p>176 rows × 6 columns</p>\n",
       "</div>"
      ],
      "text/plain": [
       "     Wavelength     a*chl     a*mss    a*cdom  b*chl  b*mss\n",
       "0           400  0.052899  0.080000  1.607792   0.12    0.4\n",
       "1           402  0.053036  0.078450  1.569649   0.12    0.4\n",
       "2           404  0.054574  0.076930  1.532410   0.12    0.4\n",
       "3           406  0.055862  0.075495  1.497387   0.12    0.4\n",
       "4           408  0.057642  0.074032  1.461863   0.12    0.4\n",
       "..          ...       ...       ...       ...    ...    ...\n",
       "171         742 -0.000148  0.002939  0.027872   0.12    0.4\n",
       "172         744 -0.000032  0.002882  0.027211   0.12    0.4\n",
       "173         746 -0.000183  0.002826  0.026565   0.12    0.4\n",
       "174         748  0.000028  0.002773  0.025958   0.12    0.4\n",
       "175         750  0.000000  0.002720  0.025342   0.12    0.4\n",
       "\n",
       "[176 rows x 6 columns]"
      ]
     },
     "execution_count": 3,
     "metadata": {},
     "output_type": "execute_result"
    }
   ],
   "source": [
    "siops_abc"
   ]
  },
  {
   "cell_type": "code",
   "execution_count": 4,
   "metadata": {},
   "outputs": [
    {
     "data": {
      "text/html": [
       "<div>\n",
       "<style scoped>\n",
       "    .dataframe tbody tr th:only-of-type {\n",
       "        vertical-align: middle;\n",
       "    }\n",
       "\n",
       "    .dataframe tbody tr th {\n",
       "        vertical-align: top;\n",
       "    }\n",
       "\n",
       "    .dataframe thead th {\n",
       "        text-align: right;\n",
       "    }\n",
       "</style>\n",
       "<table border=\"1\" class=\"dataframe\">\n",
       "  <thead>\n",
       "    <tr style=\"text-align: right;\">\n",
       "      <th></th>\n",
       "      <th>Wave</th>\n",
       "      <th>bb*chl</th>\n",
       "      <th>bb*mss</th>\n",
       "    </tr>\n",
       "  </thead>\n",
       "  <tbody>\n",
       "    <tr>\n",
       "      <td>0</td>\n",
       "      <td>400</td>\n",
       "      <td>0.001715</td>\n",
       "      <td>0.016487</td>\n",
       "    </tr>\n",
       "    <tr>\n",
       "      <td>1</td>\n",
       "      <td>405</td>\n",
       "      <td>0.001700</td>\n",
       "      <td>0.016420</td>\n",
       "    </tr>\n",
       "    <tr>\n",
       "      <td>2</td>\n",
       "      <td>410</td>\n",
       "      <td>0.001685</td>\n",
       "      <td>0.016355</td>\n",
       "    </tr>\n",
       "    <tr>\n",
       "      <td>3</td>\n",
       "      <td>415</td>\n",
       "      <td>0.001671</td>\n",
       "      <td>0.016290</td>\n",
       "    </tr>\n",
       "    <tr>\n",
       "      <td>4</td>\n",
       "      <td>420</td>\n",
       "      <td>0.001656</td>\n",
       "      <td>0.016227</td>\n",
       "    </tr>\n",
       "    <tr>\n",
       "      <td>...</td>\n",
       "      <td>...</td>\n",
       "      <td>...</td>\n",
       "      <td>...</td>\n",
       "    </tr>\n",
       "    <tr>\n",
       "      <td>66</td>\n",
       "      <td>730</td>\n",
       "      <td>0.001117</td>\n",
       "      <td>0.013555</td>\n",
       "    </tr>\n",
       "    <tr>\n",
       "      <td>67</td>\n",
       "      <td>735</td>\n",
       "      <td>0.001111</td>\n",
       "      <td>0.013525</td>\n",
       "    </tr>\n",
       "    <tr>\n",
       "      <td>68</td>\n",
       "      <td>740</td>\n",
       "      <td>0.001106</td>\n",
       "      <td>0.013495</td>\n",
       "    </tr>\n",
       "    <tr>\n",
       "      <td>69</td>\n",
       "      <td>745</td>\n",
       "      <td>0.001101</td>\n",
       "      <td>0.013466</td>\n",
       "    </tr>\n",
       "    <tr>\n",
       "      <td>70</td>\n",
       "      <td>750</td>\n",
       "      <td>0.001095</td>\n",
       "      <td>0.013436</td>\n",
       "    </tr>\n",
       "  </tbody>\n",
       "</table>\n",
       "<p>71 rows × 3 columns</p>\n",
       "</div>"
      ],
      "text/plain": [
       "    Wave     bb*chl    bb*mss\n",
       "0     400  0.001715  0.016487\n",
       "1     405  0.001700  0.016420\n",
       "2     410  0.001685  0.016355\n",
       "3     415  0.001671  0.016290\n",
       "4     420  0.001656  0.016227\n",
       "..    ...       ...       ...\n",
       "66    730  0.001117  0.013555\n",
       "67    735  0.001111  0.013525\n",
       "68    740  0.001106  0.013495\n",
       "69    745  0.001101  0.013466\n",
       "70    750  0.001095  0.013436\n",
       "\n",
       "[71 rows x 3 columns]"
      ]
     },
     "execution_count": 4,
     "metadata": {},
     "output_type": "execute_result"
    }
   ],
   "source": [
    "siops_bb"
   ]
  },
  {
   "cell_type": "markdown",
   "metadata": {},
   "source": [
    "# Bio-optical model: generate IOPs\n",
    "\n",
    "We're going to generate IOPs for a range of concentrations for each optically significant material (OSM). In this case, our OSMs are phytoplankton chlorophyll-a (chl), mineral suspended sediments (MSS) and coloured dissolved organic matter (CDOM).\n",
    "\n",
    "Let's use the following OSM concentrations:\n",
    "\n",
    "- Chl = 0.5 and 5 mg/m^3\n",
    "- MSS = 0.1, 1 and 10 g/m^3\n",
    "- CDOM = 0.01, 0.04, 0.15, and 0.6 m^-1"
   ]
  },
  {
   "cell_type": "code",
   "execution_count": 12,
   "metadata": {},
   "outputs": [],
   "source": [
    "chl = [0.5, 5]\n",
    "mss = [0.1, 1, 10]\n",
    "cdom = [0.01, 0.04, 0.15, 0.6]\n",
    "\n",
    "nchl = len(chl); nmss = len(mss); ncdom = len(cdom)"
   ]
  },
  {
   "cell_type": "markdown",
   "metadata": {},
   "source": [
    "## OSM concentrations and SIOPs to IOPs?\n",
    "\n",
    "The total absorption, $a$, of seawater can be written as:\n",
    "\n",
    "$$a = a_w + a_{chl} + a_{mss} + a_{cdom}$$\n",
    "$$a = a_w + [CHL]a^*_{chl} + [MSS]a^*_{mss} + [CDOM]a^*_{cdom}$$\n",
    "\n",
    "where:\n",
    "- $a_{chl}$ = chlorophyll-a absorption\n",
    "- $a_{mss}$ = MSS absorption\n",
    "- $a_{cdom}$ = CDOM absorption\n",
    "- $[CHL]$ = chlorophyll-a concentration\n",
    "- $[MSS]$ = MSS concentration\n",
    "- $[CDOM]$ = CDOM concentration\n",
    "- $a*_{chl}$ = chlorophyll-a specific absorption\n",
    "- $a*_{mss}$ = MSS specific absorption\n",
    "- $a*_{cdom}$ = CDOM specific absorption\n",
    "- $a_{w}$ = water absorption\n",
    "\n",
    "[See the IOCCG Report 3, section 2.6](https://ioccg.org/wp-content/uploads/2015/10/ioccg-report-03.pdf)\n",
    "\n",
    "A similar equation can be written for attenuation ($c$) and backscattering ($b_b$), except CDOM does not scatter and so is not included when calculating $b_b$."
   ]
  },
  {
   "cell_type": "markdown",
   "metadata": {},
   "source": [
    "## Absorption coefficients"
   ]
  },
  {
   "cell_type": "markdown",
   "metadata": {},
   "source": [
    "The OSM concentrations are saved as 1-D arrays, so we need to make them 2D arrays to multiply by their SIOP ($a^*$)"
   ]
  },
  {
   "cell_type": "code",
   "execution_count": 6,
   "metadata": {},
   "outputs": [],
   "source": [
    "mss2d = np.expand_dims(mss, axis = 0)\n",
    "cdom2d = np.expand_dims(cdom, axis = 0)\n",
    "chl2d = np.expand_dims(chl, axis = 0)"
   ]
  },
  {
   "cell_type": "markdown",
   "metadata": {},
   "source": [
    "And then we can multiply by the SIOPs to calculate the absorption for each material (note the SIOPs are indexed out of the dataframe as 1D arrays, so also need to be made into a 2D array):"
   ]
  },
  {
   "cell_type": "code",
   "execution_count": 7,
   "metadata": {},
   "outputs": [],
   "source": [
    "amss = np.expand_dims(siops_abc['a*mss'],axis=1) * mss2d\n",
    "acdom = np.expand_dims(siops_abc['a*cdom'],axis=1) * cdom2d\n",
    "achl = np.expand_dims(siops_abc['a*chl'],axis=1) * chl2d"
   ]
  },
  {
   "cell_type": "markdown",
   "metadata": {},
   "source": [
    "And the shapes of these arrays?"
   ]
  },
  {
   "cell_type": "code",
   "execution_count": 8,
   "metadata": {},
   "outputs": [
    {
     "data": {
      "text/plain": [
       "(176, 3)"
      ]
     },
     "execution_count": 8,
     "metadata": {},
     "output_type": "execute_result"
    }
   ],
   "source": [
    "amss.shape"
   ]
  },
  {
   "cell_type": "code",
   "execution_count": 9,
   "metadata": {},
   "outputs": [
    {
     "data": {
      "text/plain": [
       "(176, 4)"
      ]
     },
     "execution_count": 9,
     "metadata": {},
     "output_type": "execute_result"
    }
   ],
   "source": [
    "acdom.shape"
   ]
  },
  {
   "cell_type": "code",
   "execution_count": 10,
   "metadata": {},
   "outputs": [
    {
     "data": {
      "text/plain": [
       "(176, 2)"
      ]
     },
     "execution_count": 10,
     "metadata": {},
     "output_type": "execute_result"
    }
   ],
   "source": [
    "achl.shape"
   ]
  },
  {
   "cell_type": "markdown",
   "metadata": {},
   "source": [
    "So we have one column for each concentration, and each row is a different wavelength. "
   ]
  },
  {
   "cell_type": "markdown",
   "metadata": {},
   "source": [
    "### Combining OSM absorption coefficients to determine the total absorption\n",
    "We need to make copies of our achl, acdom and amss arrays, so we can add together all the combinations of constituents\n",
    "\n",
    "| chl | mss | cdom|\n",
    "|---|---|---|\n",
    "| 0.5 | 0.1 | 0.01 |\n",
    "| 0.5 | 0.1 | 0.4 |\n",
    "| 0.5 | 0.1 | 0.15 |\n",
    "| 0.5 | 0.1 | 0.6 |\n",
    "| 0.5 | 1 | 0.01 |\n",
    "| 0.5 | 1 | 0.4 |\n",
    "| 0.5 | 1 | 0.15 |\n",
    "| 0.5 | 1 | 0.6 |\n",
    "| 0.5 | 10 | 0.01 |\n",
    "| 0.5 | 10 | 0.4 |\n",
    "| 0.5 | 10 | 0.15 |\n",
    "| 0.5 | 10 | 0.6 |\n",
    "| 5 | 0.1 | 0.01 |\n",
    "| 5 | 0.1 | 0.4 |\n",
    "| 5 | 0.1 | 0.15 |\n",
    "| 5 | 0.1 | 0.6 |\n",
    "| 5 | 1 | 0.01 |\n",
    "| 5 | 1 | 0.4 |\n",
    "| 5 | 1 | 0.15 |\n",
    "| 5 | 1 | 0.6 |\n",
    "| 5 | 10 | 0.01 |\n",
    "| 5 | 10 | 0.4 |\n",
    "| 5 | 10 | 0.15 |\n",
    "| 5 | 10 | 0.6 |"
   ]
  },
  {
   "cell_type": "markdown",
   "metadata": {},
   "source": [
    "First we want to repeat the `achl` array i.e. we want to repeat each column 12 times. Why 12? See the table above - we want to add the first `achl` column to all possible combinations of the `amss` and `acdom` columns, which totals $3 \\times 4 = 12\\ $:"
   ]
  },
  {
   "cell_type": "code",
   "execution_count": 13,
   "metadata": {},
   "outputs": [],
   "source": [
    "achlrep = np.repeat(achl,nmss*ncdom,axis=1)"
   ]
  },
  {
   "cell_type": "markdown",
   "metadata": {},
   "source": [
    "Let's check the shape is what we expect (176, 24):"
   ]
  },
  {
   "cell_type": "code",
   "execution_count": 14,
   "metadata": {},
   "outputs": [
    {
     "data": {
      "text/plain": [
       "(176, 24)"
      ]
     },
     "execution_count": 14,
     "metadata": {},
     "output_type": "execute_result"
    }
   ],
   "source": [
    "achlrep.shape"
   ]
  },
  {
   "cell_type": "markdown",
   "metadata": {},
   "source": [
    "Great! But are the columns in the right order? Let's check the first row, the first 12 columns should have the same value, and then the next 12 columns should have a different value"
   ]
  },
  {
   "cell_type": "code",
   "execution_count": 15,
   "metadata": {},
   "outputs": [
    {
     "data": {
      "text/plain": [
       "array([0.02644942, 0.02644942, 0.02644942, 0.02644942, 0.02644942,\n",
       "       0.02644942, 0.02644942, 0.02644942, 0.02644942, 0.02644942,\n",
       "       0.02644942, 0.02644942, 0.26449421, 0.26449421, 0.26449421,\n",
       "       0.26449421, 0.26449421, 0.26449421, 0.26449421, 0.26449421,\n",
       "       0.26449421, 0.26449421, 0.26449421, 0.26449421])"
      ]
     },
     "execution_count": 15,
     "metadata": {},
     "output_type": "execute_result"
    }
   ],
   "source": [
    "achlrep[0,:]"
   ]
  },
  {
   "cell_type": "markdown",
   "metadata": {},
   "source": [
    "Great - this worked. Onto CDOM next...\n",
    "\n",
    "For CDOM we want to tile the `acdom` array i.e. we want to make 6 copies of it, resulting in 1 array, where each set of 4 columns corresponds to a different CDOM concentration:"
   ]
  },
  {
   "cell_type": "code",
   "execution_count": 16,
   "metadata": {},
   "outputs": [],
   "source": [
    "acdomrep = np.tile(acdom,nchl*nmss)"
   ]
  },
  {
   "cell_type": "markdown",
   "metadata": {},
   "source": [
    "Check the shape is (176, 24):"
   ]
  },
  {
   "cell_type": "code",
   "execution_count": 17,
   "metadata": {},
   "outputs": [
    {
     "data": {
      "text/plain": [
       "(176, 24)"
      ]
     },
     "execution_count": 17,
     "metadata": {},
     "output_type": "execute_result"
    }
   ],
   "source": [
    "acdomrep.shape"
   ]
  },
  {
   "cell_type": "markdown",
   "metadata": {},
   "source": [
    "And what does the first row look like?"
   ]
  },
  {
   "cell_type": "code",
   "execution_count": 18,
   "metadata": {},
   "outputs": [
    {
     "data": {
      "text/plain": [
       "array([0.01607792, 0.06431167, 0.24116877, 0.96467507, 0.01607792,\n",
       "       0.06431167, 0.24116877, 0.96467507, 0.01607792, 0.06431167,\n",
       "       0.24116877, 0.96467507, 0.01607792, 0.06431167, 0.24116877,\n",
       "       0.96467507, 0.01607792, 0.06431167, 0.24116877, 0.96467507,\n",
       "       0.01607792, 0.06431167, 0.24116877, 0.96467507])"
      ]
     },
     "execution_count": 18,
     "metadata": {},
     "output_type": "execute_result"
    }
   ],
   "source": [
    "acdomrep[0,:]"
   ]
  },
  {
   "cell_type": "markdown",
   "metadata": {},
   "source": [
    "And finally, MSS. Here we need to first repeat, and then tile:"
   ]
  },
  {
   "cell_type": "code",
   "execution_count": 19,
   "metadata": {},
   "outputs": [],
   "source": [
    "amssrep = np.tile(np.repeat(amss,ncdom,axis=1),nchl)"
   ]
  },
  {
   "cell_type": "markdown",
   "metadata": {},
   "source": [
    "And is the shape (176, 24)?"
   ]
  },
  {
   "cell_type": "code",
   "execution_count": 20,
   "metadata": {},
   "outputs": [
    {
     "data": {
      "text/plain": [
       "(176, 24)"
      ]
     },
     "execution_count": 20,
     "metadata": {},
     "output_type": "execute_result"
    }
   ],
   "source": [
    "amssrep.shape"
   ]
  },
  {
   "cell_type": "markdown",
   "metadata": {},
   "source": [
    "Yes! Does the first row look like we expect? "
   ]
  },
  {
   "cell_type": "code",
   "execution_count": 21,
   "metadata": {},
   "outputs": [
    {
     "data": {
      "text/plain": [
       "array([0.008, 0.008, 0.008, 0.008, 0.08 , 0.08 , 0.08 , 0.08 , 0.8  ,\n",
       "       0.8  , 0.8  , 0.8  , 0.008, 0.008, 0.008, 0.008, 0.08 , 0.08 ,\n",
       "       0.08 , 0.08 , 0.8  , 0.8  , 0.8  , 0.8  ])"
      ]
     },
     "execution_count": 21,
     "metadata": {},
     "output_type": "execute_result"
    }
   ],
   "source": [
    "amssrep[0,:]"
   ]
  },
  {
   "cell_type": "markdown",
   "metadata": {},
   "source": [
    "Yes!"
   ]
  },
  {
   "cell_type": "markdown",
   "metadata": {},
   "source": [
    "And the total non-water absorption is:"
   ]
  },
  {
   "cell_type": "code",
   "execution_count": 22,
   "metadata": {},
   "outputs": [],
   "source": [
    "anw = achlrep + amssrep + acdomrep"
   ]
  },
  {
   "cell_type": "markdown",
   "metadata": {},
   "source": [
    "## Backscattering and scattering coefficients for CHL and MSS\n",
    "\n",
    "These are calculated using the standard model (like we did for MSS and CDOM absorption), but CDOM doesn't scatter, so isn't included here"
   ]
  },
  {
   "cell_type": "code",
   "execution_count": 23,
   "metadata": {},
   "outputs": [],
   "source": [
    "chl2d = np.expand_dims(chl, axis = 0)\n",
    "\n",
    "bmss = np.expand_dims(siops_abc['b*mss'],axis=1) * mss2d\n",
    "bchl = np.expand_dims(siops_abc['b*chl'],axis=1) * chl2d\n",
    "\n",
    "bbmss = np.expand_dims(siops_bb['bb*mss'],axis=1) * mss2d\n",
    "bbchl = np.expand_dims(siops_bb['bb*chl'],axis=1) * chl2d"
   ]
  },
  {
   "cell_type": "markdown",
   "metadata": {},
   "source": [
    "And then repeating the arrays to make them the right size (176,24):"
   ]
  },
  {
   "cell_type": "code",
   "execution_count": 24,
   "metadata": {},
   "outputs": [],
   "source": [
    "bchlrep = np.repeat(bchl,nmss*ncdom,axis=1)\n",
    "bmssrep = np.tile(np.repeat(bmss,ncdom,axis=1),nchl)\n",
    "\n",
    "bbchlrep = np.repeat(bbchl,nmss*ncdom,axis=1)\n",
    "bbmssrep = np.tile(np.repeat(bbmss,ncdom,axis=1),nchl)"
   ]
  },
  {
   "cell_type": "markdown",
   "metadata": {},
   "source": [
    "## Nonwater backscattering and attenuation coefficients"
   ]
  },
  {
   "cell_type": "code",
   "execution_count": 25,
   "metadata": {},
   "outputs": [],
   "source": [
    "bbnw = bbchlrep + bbmssrep\n",
    "bnw = bchlrep + bmssrep\n",
    "\n",
    "cnw = anw + bnw"
   ]
  },
  {
   "cell_type": "markdown",
   "metadata": {},
   "source": [
    "# Create HydroLight ac, bb and input files\n",
    "\n",
    "## Creating the wavelength arrays"
   ]
  },
  {
   "cell_type": "code",
   "execution_count": 26,
   "metadata": {},
   "outputs": [],
   "source": [
    "wavelac = np.linspace(400,750,176)\n",
    "wac = np.expand_dims(np.insert(wavelac,0,176), axis = 0)\n",
    "\n",
    "wavelbb = np.linspace(400,750,71)\n",
    "wbb = np.expand_dims(np.insert(wavelbb,0,71), axis = 0)"
   ]
  },
  {
   "cell_type": "markdown",
   "metadata": {},
   "source": [
    "### Repeating the CHL, MSS and CDOM concentration arrays\n",
    "\n",
    "This will be useful for writing data into the ac, bb and input HydroLight files"
   ]
  },
  {
   "cell_type": "code",
   "execution_count": 27,
   "metadata": {},
   "outputs": [],
   "source": [
    "chlrep = np.repeat(chl,nmss*ncdom)\n",
    "mssrep = np.tile(np.repeat(mss,ncdom,),nchl)\n",
    "cdomrep = np.tile(cdom,nchl*nmss)"
   ]
  },
  {
   "cell_type": "markdown",
   "metadata": {},
   "source": [
    "## Creating the ac files\n",
    "\n",
    "The variable `path` is the full directory of where you want to save the ac files."
   ]
  },
  {
   "cell_type": "code",
   "execution_count": 28,
   "metadata": {},
   "outputs": [],
   "source": [
    "for run in range(0,nchl*nmss*ncdom,1):\n",
    "    path='data/ac-files/ac'+str(run)+'.txt'\n",
    "    with open(path, \"w\") as f:  \n",
    "        aca=np.concatenate([[1],anw[:,run],cnw[:,run]])\n",
    "        acb=np.concatenate([[-1],anw[:,run],cnw[:,run]])\n",
    "        ac = np.array([aca, acb])\n",
    "        osms = [chlrep[run], mssrep[run], cdomrep[run]]\n",
    "        \n",
    "        print('ac file',file=f)\n",
    "        print('-----------',file=f)\n",
    "        print('**need ten lines header**',file=f)\n",
    "        print('10th line contains run information',file=f)\n",
    "        print('11th line contains number of wavelengths & those wavelengths',file=f)\n",
    "        print('12th line onwards contains ac data',file=f)\n",
    "        print('ac data takes form of:',file=f)\n",
    "        print('depth then a for each wavelength, then c for each wavelength',file=f)\n",
    "        print('(NB - HE6 recognises end of data by negative depth)',file=f)\n",
    "        print(osms,file=f)\n",
    "        np.savetxt(f,wac,fmt='%i',delimiter=' ')\n",
    "        np.savetxt(f,ac,fmt='%f',delimiter=' ', newline='\\n')"
   ]
  },
  {
   "cell_type": "markdown",
   "metadata": {},
   "source": [
    "### Creating the bb files\n",
    "\n",
    "The variable `path` is the full directory of where you want to save the bb files."
   ]
  },
  {
   "cell_type": "code",
   "execution_count": 29,
   "metadata": {},
   "outputs": [],
   "source": [
    "for run in range(0,nchl*nmss*ncdom,1):\n",
    "    path='data/bb-files/bb'+str(run)+'.txt'\n",
    "    with open(path, \"w\") as f:  \n",
    "        bba=np.concatenate([[1],bbnw[:,run]])\n",
    "        bbb=np.concatenate([[-1],bbnw[:,run]])\n",
    "        bb = np.array([bba, bbb])\n",
    "        osms = [chlrep[run], mssrep[run], cdomrep[run]]\n",
    "        \n",
    "        print('bb file',file=f)\n",
    "        print('-----------',file=f)\n",
    "        print('**need ten lines header**',file=f)\n",
    "        print('10th line contains run information',file=f)\n",
    "        print('11th line contains number of wavelengths & those wavelengths',file=f)\n",
    "        print('12th line onwards contains ac data',file=f)\n",
    "        print('ac data takes form of:',file=f)\n",
    "        print('depth then bb for each wavelength',file=f)\n",
    "        print('(NB - HE6 recognises end of data by negative depth)',file=f)\n",
    "        print(osms,file=f)\n",
    "        np.savetxt(f,wbb,fmt='%i',delimiter=' ')\n",
    "        np.savetxt(f,bb,fmt='%f',delimiter=' ', newline='\\n')"
   ]
  },
  {
   "cell_type": "markdown",
   "metadata": {},
   "source": [
    "### Input files\n",
    "\n",
    "The variable `ifpath` is the full directory of where you want to save the HydroLight input files.\n",
    "\n",
    "`acpcpath` is the full directory of where the ac files are saved - this is important because HydroLight will look there for the files.\n",
    "\n",
    "`bbpcpath` is the full directory of where the bb files are saved - this is important because HydroLight will look there for the files."
   ]
  },
  {
   "cell_type": "code",
   "execution_count": 30,
   "metadata": {},
   "outputs": [],
   "source": [
    "datapath = 'X:/cmitchell/07-teaching-mentoring/03-guestLectures/OceanOpticsSummerClass/2025/HydroLight-Lab/data/'\n",
    "\n",
    "acpcpath = datapath + 'ac-files/'\n",
    "bbpcpath = datapath + 'bb-files/'\n",
    "ifpath = datapath + 'HEinputfiles/'"
   ]
  },
  {
   "cell_type": "code",
   "execution_count": 35,
   "metadata": {},
   "outputs": [],
   "source": [
    "for run in range(0,nchl*nmss*ncdom,1):\n",
    "    osms = [chlrep[run], mssrep[run], cdomrep[run]] #for the run description\n",
    "    with open(ifpath+'I'+str(run)+'.txt', 'w') as f: #path for where to save the input files\n",
    "        print('0, 400, 700, 0.02, 488, 0.00026, 1, 5.3',file=f)\n",
    "        print(osms,file=f)\n",
    "        print(str(run),file=f) #setting \"title\"\n",
    "        print('0, 0, 0, 1, 0',file=f)\n",
    "        print('3, 1, 0, 0, 0, 0',file=f)\n",
    "        print('2, 2',file=f)\n",
    "        print('0, 0.5,',file=f)\n",
    "        print('0, 1, 440, 1, 0.014',file=f)\n",
    "        print('2, -666, 440, 1, 0.014',file=f)\n",
    "        print('../data/H2OabDefaults_SEAwater.txt',file=f) \n",
    "        print('../data/defaults/astarpchl.txt',file=f)\n",
    "        print('0, -999, -999, -999, -999, -999',file=f)\n",
    "        print('-666, -999, -999, -999, -999, -999',file=f)\n",
    "        print('bstarDummy.txt',file=f)\n",
    "        print('dummybstar.txt',file=f)\n",
    "        print('0, 0, 550, 0.01, 0',file=f)\n",
    "        print('-2, 0, 550, 0.01, 0',file=f)\n",
    "        print('dpf_pure_H2O.txt',file=f)\n",
    "        print('dpf_Petzold_avg_particle.txt',file=f)\n",
    "        print('23',file=f)\n",
    "        print('400,410,420,430,440,450,460,470,480,490,500,510,520,530,540,550,560,570,580,590,600,610,620,630,640,650,660,670,680,690,700',file=f)\n",
    "        print('0,0,0,0,0',file=f)\n",
    "        print('2, 3, 30, 0, 0',file=f) #middle entry is solar angle\n",
    "        print('-1, 0, 0, 29.92, 1, 80, 2.5, 15, 5, 300',file=f)\n",
    "        print('5, 1.34, 20, 35, 3',file=f)\n",
    "        print('0, 0',file=f)\n",
    "        print('0, 3, 0, 1, 2',file=f) #depths\n",
    "        print('../data/H2OabDefaults_SEAwater.txt',file=f)\n",
    "        print('1',file=f)\n",
    "        print(acpcpath+'ac'+str(run)+'.txt',file=f) #directory to where the ac files are saved\n",
    "        print('dummyFilteredAc9.txt',file=f)\n",
    "        print(bbpcpath+'bb'+str(run)+'.txt',file=f) #directory to where the bb files are saved\n",
    "        print('dummyCHLdata.txt',file=f)\n",
    "        print('dummyCDOMdata.txt',file=f)\n",
    "        print('dummyR.bot',file=f)\n",
    "        print('dummydata.txt',file=f)\n",
    "        print('dummyComp.txt',file=f)\n",
    "        print('DummyIrrad.txt',file=f)\n",
    "        print('..\\\\data\\\\MyBiolumData.txt',file=f)\n",
    "        print('DummyRad.txt',file=f)"
   ]
  },
  {
   "cell_type": "markdown",
   "metadata": {},
   "source": [
    "## Making the run list\n",
    "\n",
    "We also need to add our Iroot file to the runlist file. Below we make a new runlist file that contains our input files. "
   ]
  },
  {
   "cell_type": "code",
   "execution_count": 34,
   "metadata": {},
   "outputs": [],
   "source": [
    "with open(ifpath+'runlist.txt','w') as f:\n",
    "    for run in range(0,nchl*nmss*ncdom,1):\n",
    "        print('I'+str(run)+'.txt',file=f)"
   ]
  },
  {
   "cell_type": "code",
   "execution_count": null,
   "metadata": {},
   "outputs": [],
   "source": []
  }
 ],
 "metadata": {
  "kernelspec": {
   "display_name": "Python 3",
   "language": "python",
   "name": "python3"
  },
  "language_info": {
   "codemirror_mode": {
    "name": "ipython",
    "version": 3
   },
   "file_extension": ".py",
   "mimetype": "text/x-python",
   "name": "python",
   "nbconvert_exporter": "python",
   "pygments_lexer": "ipython3",
   "version": "3.7.4"
  }
 },
 "nbformat": 4,
 "nbformat_minor": 4
}
