{
 "cells": [
  {
   "cell_type": "markdown",
   "metadata": {},
   "source": [
    "This notebook creates HydroLight-EcoLight (HE) input files (Iroot.txt files) for user-supplied IOP files (an ac file and a bb file).\n",
    "\n",
    "Notes:\n",
    "1. This notebook assumes you have ac and bb files already - it does not walk through creating those files. Note those files have a specific format, check the details in the Technical Document and the example data files provided in the HydroLight directory (`data > examples > ac9_data.txt` and `Hydroscat6_withoutH2O.txt`).\n",
    "2. This takes a rough and ready approach to making Iroot files. There are so many different options that can be selected for a given HE run, writing code that replicates the GUI is not worth it. This code is useful for if you want to do multiple HE runs, but only change one or two inputs each time i.e., the bulk of the Iroot files stays the same for each run. \n",
    "3. Setting up the code to create your Iroot files can be a bit of a frustrating process (hidden white space, one character wrong, etc), but once it is set up, it is extremely useful."
   ]
  },
  {
   "cell_type": "markdown",
   "metadata": {},
   "source": [
    "# Initializing"
   ]
  },
  {
   "cell_type": "markdown",
   "metadata": {},
   "source": [
    "## Setting filepaths"
   ]
  },
  {
   "cell_type": "code",
   "execution_count": 4,
   "metadata": {},
   "outputs": [],
   "source": [
    "datapath = 'X:/cmitchell/07-teaching-mentoring/03-guestLectures/OceanOpticsSummerClass/2025/HydroLight-Lab/data/'\n",
    "\n",
    "acfile = datapath + 'ac-files/ac_OOclass_uIOP_manual.txt'\n",
    "bbfile = datapath + 'bb-files/bb_OOclass_uIOP_manual.txt'\n",
    "\n",
    "ifile = datapath + 'HEinputfiles/IOOclass_uIOP_manual.txt'"
   ]
  },
  {
   "cell_type": "markdown",
   "metadata": {},
   "source": [
    "# Create the input (Iroot) files\n",
    "\n",
    "The first step is to go through the GUI, and set-up the run you would like to do BUT DON'T RUN IT. \n",
    "\n",
    "Next, we go to the HE folder, and open the relevant Iroot file (in the `run > batch` folder). \n",
    "\n",
    "The code below writes an Iroot file, line by line, therefore, we should be able to compare the code below, with the open Iroot file. The part that is written out is the part in single quotes on each line of code. \n",
    "\n",
    "Adjust the code below so that the output will match that in the open Iroot file. \n",
    "\n",
    "Note - the Technical Document details what each line and number represents in the Iroot file."
   ]
  },
  {
   "cell_type": "code",
   "execution_count": 5,
   "metadata": {},
   "outputs": [],
   "source": [
    "with open(ifile, 'w') as f: #path for where to save the input files\n",
    "    print('0, 400, 700, 0.02, 488, 0.00026, 1, 5.3',file=f)\n",
    "    print('description placeholder',file=f)\n",
    "    print(\"OOclass_uIOP_manual\",file=f) #setting \"title\"\n",
    "    print('0, 0, 0, 1, 0',file=f)\n",
    "    print('3, 1, 0, 0, 0, 0',file=f)\n",
    "    print('2, 2',file=f)\n",
    "    print('0, 0.5,',file=f)\n",
    "    print('0, 1, 440, 1, 0.014',file=f)\n",
    "    print('2, -666, 440, 1, 0.014',file=f)\n",
    "    print('../data/H2OabDefaults_SEAwater.txt',file=f) \n",
    "    print('../data/defaults/astarpchl.txt',file=f)\n",
    "    print('0, -999, -999, -999, -999, -999',file=f)\n",
    "    print('-666, -999, -999, -999, -999, -999',file=f)\n",
    "    print('bstarDummy.txt',file=f)\n",
    "    print('dummybstar.txt',file=f)\n",
    "    print('0, 0, 550, 0.01, 0',file=f)\n",
    "    print('-2, 0, 550, 0.01, 0',file=f)\n",
    "    print('dpf_pure_H2O.txt',file=f)\n",
    "    print('dpf_Petzold_avg_particle.txt',file=f)\n",
    "    print('23',file=f)\n",
    "    print('400,410,420,430,440,450,460,470,480,490,500,510,520,530,540,550,560,570,580,590,600,610,620,630,640,650,660,670,680,690,700',file=f)\n",
    "    print('0,0,0,0,0',file=f)\n",
    "    print('2, 3, 30, 0, 0',file=f) #middle entry is solar angle\n",
    "    print('-1, 0, 0, 29.92, 1, 80, 2.5, 15, 5, 300',file=f)\n",
    "    print('5, 1.34, 20, 35, 3',file=f)\n",
    "    print('0, 0',file=f)\n",
    "    print('0, 3, 0, 1, 2',file=f) #depths\n",
    "    print('../data/H2OabDefaults_SEAwater.txt',file=f)\n",
    "    print('1',file=f)\n",
    "    print(acfile,file=f) #directory to where the ac files are saved\n",
    "    print('dummyFilteredAc9.txt',file=f)\n",
    "    print(bbfile,file=f) #directory to where the bb files are saved\n",
    "    print('dummyCHLdata.txt',file=f)\n",
    "    print('dummyCDOMdata.txt',file=f)\n",
    "    print('dummyR.bot',file=f)\n",
    "    print('dummydata.txt',file=f)\n",
    "    print('dummyComp.txt',file=f)\n",
    "    print('DummyIrrad.txt',file=f)\n",
    "    print('..\\\\data\\\\MyBiolumData.txt',file=f)\n",
    "    print('DummyRad.txt',file=f)"
   ]
  },
  {
   "cell_type": "markdown",
   "metadata": {},
   "source": [
    "## Making the run list\n",
    "\n",
    "We also need to add our Iroot file to the runlist file. Below we make a new runlist file that contains only our input file. "
   ]
  },
  {
   "cell_type": "code",
   "execution_count": 3,
   "metadata": {},
   "outputs": [],
   "source": [
    "with open(datapath + 'HEinputfiles/runlist.txt','w') as f:\n",
    "    print('IOOclass_uIOP_manual.txt',file=f)"
   ]
  },
  {
   "cell_type": "code",
   "execution_count": null,
   "metadata": {},
   "outputs": [],
   "source": []
  }
 ],
 "metadata": {
  "kernelspec": {
   "display_name": "Python 3",
   "language": "python",
   "name": "python3"
  },
  "language_info": {
   "codemirror_mode": {
    "name": "ipython",
    "version": 3
   },
   "file_extension": ".py",
   "mimetype": "text/x-python",
   "name": "python",
   "nbconvert_exporter": "python",
   "pygments_lexer": "ipython3",
   "version": "3.7.4"
  }
 },
 "nbformat": 4,
 "nbformat_minor": 4
}
